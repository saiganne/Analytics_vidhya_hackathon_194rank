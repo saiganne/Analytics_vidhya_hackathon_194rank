{
 "cells": [
  {
   "cell_type": "code",
   "execution_count": 1,
   "metadata": {
    "_cell_guid": "b1076dfc-b9ad-4769-8c92-a6c4dae69d19",
    "_uuid": "8f2839f25d086af736a60e9eeb907d3b93b6e0e5"
   },
   "outputs": [
    {
     "name": "stderr",
     "output_type": "stream",
     "text": [
      "Using TensorFlow backend.\n",
      "/opt/conda/lib/python3.6/site-packages/tensorflow/python/framework/dtypes.py:516: FutureWarning: Passing (type, 1) or '1type' as a synonym of type is deprecated; in a future version of numpy, it will be understood as (type, (1,)) / '(1,)type'.\n",
      "  _np_qint8 = np.dtype([(\"qint8\", np.int8, 1)])\n",
      "/opt/conda/lib/python3.6/site-packages/tensorflow/python/framework/dtypes.py:517: FutureWarning: Passing (type, 1) or '1type' as a synonym of type is deprecated; in a future version of numpy, it will be understood as (type, (1,)) / '(1,)type'.\n",
      "  _np_quint8 = np.dtype([(\"quint8\", np.uint8, 1)])\n",
      "/opt/conda/lib/python3.6/site-packages/tensorflow/python/framework/dtypes.py:518: FutureWarning: Passing (type, 1) or '1type' as a synonym of type is deprecated; in a future version of numpy, it will be understood as (type, (1,)) / '(1,)type'.\n",
      "  _np_qint16 = np.dtype([(\"qint16\", np.int16, 1)])\n",
      "/opt/conda/lib/python3.6/site-packages/tensorflow/python/framework/dtypes.py:519: FutureWarning: Passing (type, 1) or '1type' as a synonym of type is deprecated; in a future version of numpy, it will be understood as (type, (1,)) / '(1,)type'.\n",
      "  _np_quint16 = np.dtype([(\"quint16\", np.uint16, 1)])\n",
      "/opt/conda/lib/python3.6/site-packages/tensorflow/python/framework/dtypes.py:520: FutureWarning: Passing (type, 1) or '1type' as a synonym of type is deprecated; in a future version of numpy, it will be understood as (type, (1,)) / '(1,)type'.\n",
      "  _np_qint32 = np.dtype([(\"qint32\", np.int32, 1)])\n",
      "/opt/conda/lib/python3.6/site-packages/tensorflow/python/framework/dtypes.py:525: FutureWarning: Passing (type, 1) or '1type' as a synonym of type is deprecated; in a future version of numpy, it will be understood as (type, (1,)) / '(1,)type'.\n",
      "  np_resource = np.dtype([(\"resource\", np.ubyte, 1)])\n"
     ]
    },
    {
     "name": "stdout",
     "output_type": "stream",
     "text": [
      "/kaggle/input/feature/end_data.csv\n",
      "/kaggle/input/wns-analyticswizard/sample_submission_ipsblct/sample_submission.csv\n",
      "/kaggle/input/wns-analyticswizard/test_aq1fgdb/test.csv\n",
      "/kaggle/input/wns-analyticswizard/train_na17sgz/item_data.csv\n",
      "/kaggle/input/wns-analyticswizard/train_na17sgz/train.csv\n",
      "/kaggle/input/wns-analyticswizard/train_na17sgz/view_log.csv\n",
      "/kaggle/input/nearest-date/Nearest_date.csv\n"
     ]
    },
    {
     "name": "stderr",
     "output_type": "stream",
     "text": [
      "/opt/conda/lib/python3.6/site-packages/tensorboard/compat/tensorflow_stub/dtypes.py:541: FutureWarning: Passing (type, 1) or '1type' as a synonym of type is deprecated; in a future version of numpy, it will be understood as (type, (1,)) / '(1,)type'.\n",
      "  _np_qint8 = np.dtype([(\"qint8\", np.int8, 1)])\n",
      "/opt/conda/lib/python3.6/site-packages/tensorboard/compat/tensorflow_stub/dtypes.py:542: FutureWarning: Passing (type, 1) or '1type' as a synonym of type is deprecated; in a future version of numpy, it will be understood as (type, (1,)) / '(1,)type'.\n",
      "  _np_quint8 = np.dtype([(\"quint8\", np.uint8, 1)])\n",
      "/opt/conda/lib/python3.6/site-packages/tensorboard/compat/tensorflow_stub/dtypes.py:543: FutureWarning: Passing (type, 1) or '1type' as a synonym of type is deprecated; in a future version of numpy, it will be understood as (type, (1,)) / '(1,)type'.\n",
      "  _np_qint16 = np.dtype([(\"qint16\", np.int16, 1)])\n",
      "/opt/conda/lib/python3.6/site-packages/tensorboard/compat/tensorflow_stub/dtypes.py:544: FutureWarning: Passing (type, 1) or '1type' as a synonym of type is deprecated; in a future version of numpy, it will be understood as (type, (1,)) / '(1,)type'.\n",
      "  _np_quint16 = np.dtype([(\"quint16\", np.uint16, 1)])\n",
      "/opt/conda/lib/python3.6/site-packages/tensorboard/compat/tensorflow_stub/dtypes.py:545: FutureWarning: Passing (type, 1) or '1type' as a synonym of type is deprecated; in a future version of numpy, it will be understood as (type, (1,)) / '(1,)type'.\n",
      "  _np_qint32 = np.dtype([(\"qint32\", np.int32, 1)])\n",
      "/opt/conda/lib/python3.6/site-packages/tensorboard/compat/tensorflow_stub/dtypes.py:550: FutureWarning: Passing (type, 1) or '1type' as a synonym of type is deprecated; in a future version of numpy, it will be understood as (type, (1,)) / '(1,)type'.\n",
      "  np_resource = np.dtype([(\"resource\", np.ubyte, 1)])\n"
     ]
    }
   ],
   "source": [
    "# This Python 3 environment comes with many helpful analytics libraries installed\n",
    "# It is defined by the kaggle/python docker image: https://github.com/kaggle/docker-python\n",
    "# For example, here's several helpful packages to load in \n",
    "\n",
    "import numpy as np # linear algebra\n",
    "import pandas as pd # data processing, CSV file I/O (e.g. pd.read_csv)\n",
    "from tqdm import tqdm_notebook\n",
    "from sklearn.metrics import roc_auc_score,confusion_matrix,average_precision_score\n",
    "from sklearn.model_selection import GridSearchCV,RandomizedSearchCV\n",
    "from sklearn.model_selection import train_test_split\n",
    "from sklearn.preprocessing import StandardScaler\n",
    "from sklearn.linear_model import LogisticRegression\n",
    "from imblearn.over_sampling import RandomOverSampler\n",
    "from lightgbm import LGBMClassifier\n",
    "\n",
    "import warnings\n",
    "warnings.filterwarnings('ignore')\n",
    "%matplotlib inline\n",
    "\n",
    "# Input data files are available in the \"../input/\" directory.\n",
    "# For example, running this (by clicking run or pressing Shift+Enter) will list all files under the input directory\n",
    "\n",
    "import os\n",
    "for dirname, _, filenames in os.walk('/kaggle/input'):\n",
    "    for filename in filenames:\n",
    "        print(os.path.join(dirname, filename))\n",
    "        \n",
    "\n",
    "\n",
    "# Any results you write to the current directory are saved as output."
   ]
  },
  {
   "cell_type": "code",
   "execution_count": 2,
   "metadata": {
    "_cell_guid": "79c7e3d0-c299-4dcb-8224-4455121ee9b0",
    "_uuid": "d629ff2d2480ee46fbb7e2d37f6b5fab8052498a"
   },
   "outputs": [],
   "source": [
    "train= pd.read_csv(\"/kaggle/input/wns-analyticswizard/train_na17sgz/train.csv\")\n",
    "item_data=pd.read_csv(\"/kaggle/input/wns-analyticswizard/train_na17sgz/item_data.csv\")\n",
    "view_log=pd.read_csv(\"/kaggle/input/wns-analyticswizard/train_na17sgz/view_log.csv\")\n",
    "test = pd.read_csv(\"/kaggle/input/wns-analyticswizard/test_aq1fgdb/test.csv\")\n",
    "sample = pd.read_csv(\"/kaggle/input/wns-analyticswizard/sample_submission_ipsblct/sample_submission.csv\")\n",
    "train['impression_time']=pd.to_datetime(train['impression_time'])\n",
    "test['impression_time']=pd.to_datetime(test['impression_time'])\n",
    "view_log['server_time']=pd.to_datetime(view_log['server_time'])\n",
    "test['is_click']=np.nan\n",
    "train['data']='train'\n",
    "test['data']='test'\n",
    "test=test[train.columns]\n",
    "cd_all=pd.concat([train,test],axis=0)"
   ]
  },
  {
   "cell_type": "code",
   "execution_count": 3,
   "metadata": {},
   "outputs": [
    {
     "name": "stdout",
     "output_type": "stream",
     "text": [
      "impression_id              object\n",
      "impression_time    datetime64[ns]\n",
      "user_id                     int64\n",
      "app_code                    int64\n",
      "os_version                 object\n",
      "is_4G                       int64\n",
      "is_click                    int64\n",
      "data                       object\n",
      "dtype: object\n",
      "-----------------------\n",
      "(237609, 8)\n",
      "(132761, 6)\n",
      "(3118622, 5)\n",
      "(90675, 8)\n"
     ]
    }
   ],
   "source": [
    "print(train.dtypes)\n",
    "print(\"-----------------------\")\n",
    "print(train.shape)\n",
    "print(item_data.shape)\n",
    "print(view_log.shape)\n",
    "print(test.shape)"
   ]
  },
  {
   "cell_type": "code",
   "execution_count": 4,
   "metadata": {},
   "outputs": [
    {
     "data": {
      "text/html": [
       "<div>\n",
       "<style scoped>\n",
       "    .dataframe tbody tr th:only-of-type {\n",
       "        vertical-align: middle;\n",
       "    }\n",
       "\n",
       "    .dataframe tbody tr th {\n",
       "        vertical-align: top;\n",
       "    }\n",
       "\n",
       "    .dataframe thead th {\n",
       "        text-align: right;\n",
       "    }\n",
       "</style>\n",
       "<table border=\"1\" class=\"dataframe\">\n",
       "  <thead>\n",
       "    <tr style=\"text-align: right;\">\n",
       "      <th></th>\n",
       "      <th>impression_id</th>\n",
       "      <th>impression_time</th>\n",
       "      <th>user_id</th>\n",
       "      <th>app_code</th>\n",
       "      <th>os_version</th>\n",
       "      <th>is_4G</th>\n",
       "      <th>is_click</th>\n",
       "      <th>data</th>\n",
       "    </tr>\n",
       "  </thead>\n",
       "  <tbody>\n",
       "    <tr>\n",
       "      <th>0</th>\n",
       "      <td>c4ca4238a0b923820dcc509a6f75849b</td>\n",
       "      <td>2018-11-15 00:00:00</td>\n",
       "      <td>87862</td>\n",
       "      <td>422</td>\n",
       "      <td>old</td>\n",
       "      <td>0</td>\n",
       "      <td>0</td>\n",
       "      <td>train</td>\n",
       "    </tr>\n",
       "    <tr>\n",
       "      <th>1</th>\n",
       "      <td>45c48cce2e2d7fbdea1afc51c7c6ad26</td>\n",
       "      <td>2018-11-15 00:01:00</td>\n",
       "      <td>63410</td>\n",
       "      <td>467</td>\n",
       "      <td>latest</td>\n",
       "      <td>1</td>\n",
       "      <td>1</td>\n",
       "      <td>train</td>\n",
       "    </tr>\n",
       "    <tr>\n",
       "      <th>2</th>\n",
       "      <td>70efdf2ec9b086079795c442636b55fb</td>\n",
       "      <td>2018-11-15 00:02:00</td>\n",
       "      <td>71748</td>\n",
       "      <td>259</td>\n",
       "      <td>intermediate</td>\n",
       "      <td>1</td>\n",
       "      <td>0</td>\n",
       "      <td>train</td>\n",
       "    </tr>\n",
       "    <tr>\n",
       "      <th>3</th>\n",
       "      <td>8e296a067a37563370ded05f5a3bf3ec</td>\n",
       "      <td>2018-11-15 00:02:00</td>\n",
       "      <td>69209</td>\n",
       "      <td>244</td>\n",
       "      <td>latest</td>\n",
       "      <td>1</td>\n",
       "      <td>0</td>\n",
       "      <td>train</td>\n",
       "    </tr>\n",
       "    <tr>\n",
       "      <th>4</th>\n",
       "      <td>182be0c5cdcd5072bb1864cdee4d3d6e</td>\n",
       "      <td>2018-11-15 00:02:00</td>\n",
       "      <td>62873</td>\n",
       "      <td>473</td>\n",
       "      <td>latest</td>\n",
       "      <td>0</td>\n",
       "      <td>0</td>\n",
       "      <td>train</td>\n",
       "    </tr>\n",
       "  </tbody>\n",
       "</table>\n",
       "</div>"
      ],
      "text/plain": [
       "                      impression_id     impression_time  user_id  app_code  \\\n",
       "0  c4ca4238a0b923820dcc509a6f75849b 2018-11-15 00:00:00    87862       422   \n",
       "1  45c48cce2e2d7fbdea1afc51c7c6ad26 2018-11-15 00:01:00    63410       467   \n",
       "2  70efdf2ec9b086079795c442636b55fb 2018-11-15 00:02:00    71748       259   \n",
       "3  8e296a067a37563370ded05f5a3bf3ec 2018-11-15 00:02:00    69209       244   \n",
       "4  182be0c5cdcd5072bb1864cdee4d3d6e 2018-11-15 00:02:00    62873       473   \n",
       "\n",
       "     os_version  is_4G  is_click   data  \n",
       "0           old      0         0  train  \n",
       "1        latest      1         1  train  \n",
       "2  intermediate      1         0  train  \n",
       "3        latest      1         0  train  \n",
       "4        latest      0         0  train  "
      ]
     },
     "execution_count": 4,
     "metadata": {},
     "output_type": "execute_result"
    }
   ],
   "source": [
    "train.head()"
   ]
  },
  {
   "cell_type": "code",
   "execution_count": 5,
   "metadata": {},
   "outputs": [
    {
     "name": "stdout",
     "output_type": "stream",
     "text": [
      "(328284, 2)\n",
      "(327442, 2)\n"
     ]
    }
   ],
   "source": [
    "#Create new data d1 like this : Sort cd_all by user_id and impression date [ remove other columns ]\n",
    "#Remove duplicate observations from d1 \n",
    "d1=cd_all.sort_values(['user_id','impression_time'])\n",
    "\n",
    "d1=d1[['user_id','impression_time']]\n",
    "\n",
    "print(d1.shape)\n",
    "d1=d1.drop_duplicates()\n",
    "print(d1.shape)"
   ]
  },
  {
   "cell_type": "code",
   "execution_count": 6,
   "metadata": {},
   "outputs": [
    {
     "name": "stdout",
     "output_type": "stream",
     "text": [
      "(3118622, 2)\n",
      "(2712976, 2)\n"
     ]
    }
   ],
   "source": [
    "#Create new data d2 : sort cd_viewlog by user_id and server_date [ remove other columns ]\n",
    "d2=view_log.sort_values(['user_id','server_time'])\n",
    "d2=d2[['user_id','server_time']]\n",
    "print(d2.shape)\n",
    "d2=d2.drop_duplicates()\n",
    "print(d2.shape)"
   ]
  },
  {
   "cell_type": "code",
   "execution_count": 7,
   "metadata": {},
   "outputs": [],
   "source": [
    "#end_data={'user_id':[],'impression_time':[],'result':[]}\n",
    "\n",
    "#for id in tqdm_notebook(d1['user_id'].unique()):\n",
    "#    for date in d1.loc[d1['user_id']==id,'impression_time']:\n",
    "#        d2_sub=d2[d2['user_id']==id]\n",
    "#        result=(pd.to_datetime(date-d2_sub['server_time']).dt.day<10).sum()\n",
    "#        end_data['user_id'].append(id)\n",
    "#        end_data['impression_time'].append(date)\n",
    "#        end_data['result'].append(result)\n",
    "\n",
    "#The above for loop  generate data in end_date, i saved that csv file and loading it to save the execution time\n",
    "end_data= pd.read_csv(\"/kaggle/input/feature/end_data.csv\")\n",
    "\n",
    "\n",
    "#end_data=pd.DataFrame(end_data)"
   ]
  },
  {
   "cell_type": "code",
   "execution_count": 8,
   "metadata": {
    "scrolled": true
   },
   "outputs": [
    {
     "name": "stdout",
     "output_type": "stream",
     "text": [
      "(327442, 3)\n",
      "(237609, 8)\n",
      "(132761, 6)\n",
      "(3118622, 5)\n"
     ]
    }
   ],
   "source": [
    "print(end_data.shape)\n",
    "print(train.shape)\n",
    "print(item_data.shape)\n",
    "print(view_log.shape)"
   ]
  },
  {
   "cell_type": "code",
   "execution_count": 9,
   "metadata": {},
   "outputs": [
    {
     "data": {
      "text/html": [
       "<div>\n",
       "<style scoped>\n",
       "    .dataframe tbody tr th:only-of-type {\n",
       "        vertical-align: middle;\n",
       "    }\n",
       "\n",
       "    .dataframe tbody tr th {\n",
       "        vertical-align: top;\n",
       "    }\n",
       "\n",
       "    .dataframe thead th {\n",
       "        text-align: right;\n",
       "    }\n",
       "</style>\n",
       "<table border=\"1\" class=\"dataframe\">\n",
       "  <thead>\n",
       "    <tr style=\"text-align: right;\">\n",
       "      <th></th>\n",
       "      <th>user_id</th>\n",
       "      <th>impression_time</th>\n",
       "      <th>result</th>\n",
       "    </tr>\n",
       "  </thead>\n",
       "  <tbody>\n",
       "    <tr>\n",
       "      <th>0</th>\n",
       "      <td>0</td>\n",
       "      <td>2018-11-26 23:30:00</td>\n",
       "      <td>37</td>\n",
       "    </tr>\n",
       "    <tr>\n",
       "      <th>1</th>\n",
       "      <td>1</td>\n",
       "      <td>2018-12-13 19:49:00</td>\n",
       "      <td>7</td>\n",
       "    </tr>\n",
       "    <tr>\n",
       "      <th>2</th>\n",
       "      <td>2</td>\n",
       "      <td>2018-11-19 20:49:00</td>\n",
       "      <td>139</td>\n",
       "    </tr>\n",
       "    <tr>\n",
       "      <th>3</th>\n",
       "      <td>2</td>\n",
       "      <td>2018-11-20 20:29:00</td>\n",
       "      <td>126</td>\n",
       "    </tr>\n",
       "    <tr>\n",
       "      <th>4</th>\n",
       "      <td>2</td>\n",
       "      <td>2018-11-20 20:53:00</td>\n",
       "      <td>126</td>\n",
       "    </tr>\n",
       "  </tbody>\n",
       "</table>\n",
       "</div>"
      ],
      "text/plain": [
       "   user_id      impression_time  result\n",
       "0        0  2018-11-26 23:30:00      37\n",
       "1        1  2018-12-13 19:49:00       7\n",
       "2        2  2018-11-19 20:49:00     139\n",
       "3        2  2018-11-20 20:29:00     126\n",
       "4        2  2018-11-20 20:53:00     126"
      ]
     },
     "execution_count": 9,
     "metadata": {},
     "output_type": "execute_result"
    }
   ],
   "source": [
    "end_data.head()"
   ]
  },
  {
   "cell_type": "code",
   "execution_count": 10,
   "metadata": {},
   "outputs": [],
   "source": [
    "#Nearest_date={'user_id':[],'impression_time':[],'Nearest_serverdate':[]}\n",
    "#for id in tqdm_notebook(d1['user_id'].unique()):   #tqdm_notebook will give display graphical progress bar\n",
    "#    for date in d1.loc[d1['user_id']==id,'impression_time']:\n",
    "#        d2_sub=d2[d2['user_id']==id]\n",
    "#        b=51909\n",
    "#        date2 = pd.to_datetime('2018-11-26 23:30:00')\n",
    "#        for date1 in d2_sub['server_time']:\n",
    "#            a=pd.to_datetime(date)-pd.to_datetime(date1)\n",
    "#            k=a/pd.Timedelta(1, unit='d')\n",
    "#            if k>0:        \n",
    "#                if k>=b:\n",
    "#                    b=b\n",
    "#                    date2=date2\n",
    "#                else:\n",
    "#                    b=k\n",
    "#                    date2=date1\n",
    "#        Nearest_date['user_id'].append(id)\n",
    "#        Nearest_date['impression_time'].append(date)\n",
    "#        Nearest_date['Nearest_serverdate'].append(date2)\n",
    "\n",
    "\n",
    "#pd.DataFrame(Nearest_date).to_csv(\"Nearest_date.csv\",index=False)\n",
    "Nearest_date= pd.read_csv(\"../input/nearest-date/Nearest_date.csv\")"
   ]
  },
  {
   "cell_type": "code",
   "execution_count": 11,
   "metadata": {},
   "outputs": [
    {
     "data": {
      "text/html": [
       "<div>\n",
       "<style scoped>\n",
       "    .dataframe tbody tr th:only-of-type {\n",
       "        vertical-align: middle;\n",
       "    }\n",
       "\n",
       "    .dataframe tbody tr th {\n",
       "        vertical-align: top;\n",
       "    }\n",
       "\n",
       "    .dataframe thead th {\n",
       "        text-align: right;\n",
       "    }\n",
       "</style>\n",
       "<table border=\"1\" class=\"dataframe\">\n",
       "  <thead>\n",
       "    <tr style=\"text-align: right;\">\n",
       "      <th></th>\n",
       "      <th>user_id</th>\n",
       "      <th>impression_time</th>\n",
       "      <th>Nearest_serverdate</th>\n",
       "    </tr>\n",
       "  </thead>\n",
       "  <tbody>\n",
       "    <tr>\n",
       "      <th>0</th>\n",
       "      <td>0</td>\n",
       "      <td>2018-11-26 23:30:00</td>\n",
       "      <td>2018-11-26 15:34:00</td>\n",
       "    </tr>\n",
       "    <tr>\n",
       "      <th>1</th>\n",
       "      <td>1</td>\n",
       "      <td>2018-12-13 19:49:00</td>\n",
       "      <td>2018-12-09 01:37:00</td>\n",
       "    </tr>\n",
       "    <tr>\n",
       "      <th>2</th>\n",
       "      <td>2</td>\n",
       "      <td>2018-11-19 20:49:00</td>\n",
       "      <td>2018-11-19 14:50:00</td>\n",
       "    </tr>\n",
       "    <tr>\n",
       "      <th>3</th>\n",
       "      <td>2</td>\n",
       "      <td>2018-11-20 20:29:00</td>\n",
       "      <td>2018-11-19 21:46:00</td>\n",
       "    </tr>\n",
       "    <tr>\n",
       "      <th>4</th>\n",
       "      <td>2</td>\n",
       "      <td>2018-11-20 20:53:00</td>\n",
       "      <td>2018-11-19 21:46:00</td>\n",
       "    </tr>\n",
       "  </tbody>\n",
       "</table>\n",
       "</div>"
      ],
      "text/plain": [
       "   user_id      impression_time   Nearest_serverdate\n",
       "0        0  2018-11-26 23:30:00  2018-11-26 15:34:00\n",
       "1        1  2018-12-13 19:49:00  2018-12-09 01:37:00\n",
       "2        2  2018-11-19 20:49:00  2018-11-19 14:50:00\n",
       "3        2  2018-11-20 20:29:00  2018-11-19 21:46:00\n",
       "4        2  2018-11-20 20:53:00  2018-11-19 21:46:00"
      ]
     },
     "execution_count": 11,
     "metadata": {},
     "output_type": "execute_result"
    }
   ],
   "source": [
    "Nearest_date.head()"
   ]
  },
  {
   "cell_type": "code",
   "execution_count": 12,
   "metadata": {},
   "outputs": [
    {
     "name": "stdout",
     "output_type": "stream",
     "text": [
      "impression_id              object\n",
      "impression_time    datetime64[ns]\n",
      "user_id                     int64\n",
      "app_code                    int64\n",
      "os_version                 object\n",
      "is_4G                       int64\n",
      "is_click                  float64\n",
      "data                       object\n",
      "dtype: object\n",
      "===========\n",
      "user_id             int64\n",
      "impression_time    object\n",
      "result              int64\n",
      "dtype: object\n",
      "===========\n",
      "user_id                int64\n",
      "impression_time       object\n",
      "Nearest_serverdate    object\n",
      "dtype: object\n"
     ]
    }
   ],
   "source": [
    "print(cd_all.dtypes)\n",
    "print(\"===========\")\n",
    "print(end_data.dtypes)\n",
    "print(\"===========\")\n",
    "print(Nearest_date.dtypes)"
   ]
  },
  {
   "cell_type": "code",
   "execution_count": 13,
   "metadata": {},
   "outputs": [],
   "source": [
    "end_data['impression_time']=pd.to_datetime(end_data['impression_time']) # changing the dtype\n",
    "Nearest_date['impression_time']=pd.to_datetime(Nearest_date['impression_time']) # changing the dtype\n",
    "Nearest_date['Nearest_serverdate']=pd.to_datetime(Nearest_date['Nearest_serverdate']) # changing the dtype"
   ]
  },
  {
   "cell_type": "code",
   "execution_count": 14,
   "metadata": {},
   "outputs": [],
   "source": [
    "cd_all=pd.merge(cd_all,end_data,on=['user_id','impression_time'],how='left')\n",
    "\n",
    "cd_all=pd.merge(cd_all,Nearest_date,on=['user_id','impression_time'],how='left')\n",
    "\n",
    "#cd_all=pd.merge(cd_all,view_log,how='left',left_on=['user_id','Nearest_serverdate'],right_on=['user_id','server_time'])\n",
    "#cd_all=pd.merge(cd_all,item_data,on='item_id',how='left')"
   ]
  },
  {
   "cell_type": "code",
   "execution_count": 15,
   "metadata": {},
   "outputs": [
    {
     "data": {
      "text/plain": [
       "(328284, 10)"
      ]
     },
     "execution_count": 15,
     "metadata": {},
     "output_type": "execute_result"
    }
   ],
   "source": [
    "cd_all.shape"
   ]
  },
  {
   "cell_type": "code",
   "execution_count": 16,
   "metadata": {},
   "outputs": [
    {
     "data": {
      "text/plain": [
       "impression_id                 object\n",
       "impression_time       datetime64[ns]\n",
       "user_id                        int64\n",
       "app_code                       int64\n",
       "os_version                    object\n",
       "is_4G                          int64\n",
       "is_click                     float64\n",
       "data                          object\n",
       "result                         int64\n",
       "Nearest_serverdate    datetime64[ns]\n",
       "dtype: object"
      ]
     },
     "execution_count": 16,
     "metadata": {},
     "output_type": "execute_result"
    }
   ],
   "source": [
    "cd_all.dtypes"
   ]
  },
  {
   "cell_type": "code",
   "execution_count": 17,
   "metadata": {},
   "outputs": [],
   "source": [
    "from math import ceil\n",
    "\n",
    "def week_of_month(dt):\n",
    "    \"\"\" Returns the week of the month for the specified date.\n",
    "    \"\"\"\n",
    "\n",
    "    first_day = dt.replace(day=1)\n",
    "\n",
    "    dom = dt.day\n",
    "    adjusted_dom = dom + first_day.weekday()\n",
    "\n",
    "    return int(ceil(adjusted_dom/7.0))"
   ]
  },
  {
   "cell_type": "code",
   "execution_count": 18,
   "metadata": {},
   "outputs": [],
   "source": [
    "cd_all[\"imp_month\"] = cd_all['impression_time'].dt.month\n",
    "cd_all['imp_wom']=cd_all['impression_time'].apply(lambda x: week_of_month(x))\n",
    "cd_all[\"imp_weekday\"] = cd_all['impression_time'].dt.weekday"
   ]
  },
  {
   "cell_type": "code",
   "execution_count": 19,
   "metadata": {},
   "outputs": [],
   "source": [
    "cd_all[\"near_month\"] = cd_all['Nearest_serverdate'].dt.month\n",
    "cd_all['near_wom']=cd_all['Nearest_serverdate'].apply(lambda x: week_of_month(x))\n",
    "cd_all[\"near_weekday\"] = cd_all['Nearest_serverdate'].dt.weekday"
   ]
  },
  {
   "cell_type": "code",
   "execution_count": 20,
   "metadata": {},
   "outputs": [],
   "source": [
    "# dropping  column\n",
    "for col in ['impression_time','Nearest_serverdate']:\n",
    "    cd_all.drop([col],axis=1,inplace=True)\n",
    "  "
   ]
  },
  {
   "cell_type": "code",
   "execution_count": 21,
   "metadata": {},
   "outputs": [],
   "source": [
    "cd_all['os_version']=cd_all['os_version'].map({'latest':3,'intermediate':2,'old':'1'})\n",
    "cd_all['os_version']=cd_all['os_version'].astype(int)"
   ]
  },
  {
   "cell_type": "code",
   "execution_count": 22,
   "metadata": {},
   "outputs": [
    {
     "data": {
      "text/plain": [
       "impression_id     object\n",
       "user_id            int64\n",
       "app_code           int64\n",
       "os_version         int64\n",
       "is_4G              int64\n",
       "is_click         float64\n",
       "data              object\n",
       "result             int64\n",
       "imp_month          int64\n",
       "imp_wom            int64\n",
       "imp_weekday        int64\n",
       "near_month         int64\n",
       "near_wom           int64\n",
       "near_weekday       int64\n",
       "dtype: object"
      ]
     },
     "execution_count": 22,
     "metadata": {},
     "output_type": "execute_result"
    }
   ],
   "source": [
    "cd_all.dtypes"
   ]
  },
  {
   "cell_type": "code",
   "execution_count": 23,
   "metadata": {},
   "outputs": [],
   "source": [
    "temp=pd.get_dummies(cd_all['imp_month'],drop_first=True)\n",
    "cd_all=pd.concat([cd_all,temp],axis=1)\n",
    "cd_all.drop(['imp_month'],axis=1,inplace=True)\n",
    "\n",
    "temp=pd.get_dummies(cd_all['imp_wom'],drop_first=True)\n",
    "cd_all=pd.concat([cd_all,temp],axis=1)\n",
    "cd_all.drop(['imp_wom'],axis=1,inplace=True)\n",
    "\n",
    "temp=pd.get_dummies(cd_all['imp_weekday'],drop_first=True)\n",
    "cd_all=pd.concat([cd_all,temp],axis=1)\n",
    "cd_all.drop(['imp_weekday'],axis=1,inplace=True)\n",
    "\n",
    "temp=pd.get_dummies(cd_all['near_month'],drop_first=True)\n",
    "cd_all=pd.concat([cd_all,temp],axis=1)\n",
    "cd_all.drop(['near_month'],axis=1,inplace=True)\n",
    "\n",
    "temp=pd.get_dummies(cd_all['near_wom'],drop_first=True)\n",
    "cd_all=pd.concat([cd_all,temp],axis=1)\n",
    "cd_all.drop(['near_wom'],axis=1,inplace=True)\n",
    "\n",
    "temp=pd.get_dummies(cd_all['near_weekday'],drop_first=True)\n",
    "cd_all=pd.concat([cd_all,temp],axis=1)\n",
    "cd_all.drop(['near_weekday'],axis=1,inplace=True)\n",
    "\n",
    "\n",
    "temp=pd.get_dummies(cd_all['os_version'],drop_first=True)\n",
    "cd_all=pd.concat([cd_all,temp],axis=1)\n",
    "cd_all.drop(['os_version'],axis=1,inplace=True)"
   ]
  },
  {
   "cell_type": "code",
   "execution_count": 24,
   "metadata": {},
   "outputs": [
    {
     "name": "stdout",
     "output_type": "stream",
     "text": [
      "app_code\n"
     ]
    }
   ],
   "source": [
    "cd_all['app_code']=cd_all['app_code'].astype(str)\n",
    "for col in ['app_code']:\n",
    "    freqs=cd_all[col].value_counts()\n",
    "    k=freqs.index[freqs>=100][:-1]\n",
    "    for cat in k:\n",
    "        name=col+'_'+cat\n",
    "        cd_all[name]=(cd_all[col]==cat).astype(int)\n",
    "    del cd_all[col]\n",
    "    print(col)"
   ]
  },
  {
   "cell_type": "code",
   "execution_count": 25,
   "metadata": {},
   "outputs": [],
   "source": [
    "cd_all=cd_all.rename(columns={'result': 'count_in_log_for10days'})"
   ]
  },
  {
   "cell_type": "code",
   "execution_count": 26,
   "metadata": {},
   "outputs": [],
   "source": [
    "cd_all.drop(['user_id'],axis=1,inplace=True)  "
   ]
  },
  {
   "cell_type": "code",
   "execution_count": 27,
   "metadata": {},
   "outputs": [
    {
     "data": {
      "text/plain": [
       "(328284, 162)"
      ]
     },
     "execution_count": 27,
     "metadata": {},
     "output_type": "execute_result"
    }
   ],
   "source": [
    "cd_all.shape"
   ]
  },
  {
   "cell_type": "code",
   "execution_count": 28,
   "metadata": {},
   "outputs": [],
   "source": [
    "train_df=cd_all[cd_all['data']=='train']\n",
    "del train_df['data']\n",
    "test_df=cd_all[cd_all['data']=='test']\n",
    "test_df.drop(['is_click','data'],axis=1,inplace=True)"
   ]
  },
  {
   "cell_type": "code",
   "execution_count": 29,
   "metadata": {},
   "outputs": [
    {
     "name": "stdout",
     "output_type": "stream",
     "text": [
      "(237609, 161)\n",
      "(90675, 160)\n"
     ]
    }
   ],
   "source": [
    "print(train_df.shape)\n",
    "print(test_df.shape)"
   ]
  },
  {
   "cell_type": "code",
   "execution_count": 30,
   "metadata": {},
   "outputs": [],
   "source": [
    "train_df.drop(['impression_id'],axis=1,inplace=True)\n",
    "test_df.drop(['impression_id'],axis=1,inplace=True)"
   ]
  },
  {
   "cell_type": "code",
   "execution_count": 31,
   "metadata": {},
   "outputs": [],
   "source": [
    "#t1,t2 = train_test_split(train_df,test_size=0.30,stratify=train['is_click'],random_state=12)\n",
    "\n",
    "#t1_x=t1.drop(['is_click'],axis=1)\n",
    "#t1_y=t1['is_click']\n",
    "#t2_x=t2.drop(['is_click'],axis=1)\n",
    "#t2_y=t2['is_click']\n",
    "\n",
    "#t1col=t1_x.columns\n",
    "#t2col=t2_x.columns\n",
    "\n",
    "#ros = RandomOverSampler(random_state=143)\n",
    "#t1_x,t1_y = ros.fit_resample(t1_x,t1_y)\n",
    "\n",
    "#scaler=StandardScaler()\n",
    "#scaler.fit(t1_x)\n",
    "#t1_x=scaler.transform(t1_x)\n",
    "#scaler.fit(t2_x)\n",
    "#t2_x=scaler.transform(t2_x)\n",
    "\n",
    "#t1_x = pd.DataFrame(t1_x, columns = t1col)\n",
    "#t2_x=pd.DataFrame(t2_x, columns = t2col)"
   ]
  },
  {
   "cell_type": "code",
   "execution_count": 32,
   "metadata": {},
   "outputs": [],
   "source": [
    "train_df_x=train_df.drop(['is_click'],axis=1)\n",
    "train_df_y=train_df['is_click']\n",
    "test_df_x=test_df\n",
    "\n",
    "train_dfcol=train_df_x.columns\n",
    "test_dfcol=test_df_x.columns\n",
    "\n",
    "ros = RandomOverSampler(random_state=143)\n",
    "train_df_x,train_df_y = ros.fit_resample(train_df_x,train_df_y)\n",
    "\n",
    "scaler=StandardScaler()\n",
    "scaler.fit(train_df_x)\n",
    "train_df_x=scaler.transform(train_df_x)\n",
    "scaler.fit(test_df_x)\n",
    "test_df_x=scaler.transform(test_df_x)\n",
    "\n",
    "train_df_x = pd.DataFrame(train_df_x, columns = train_dfcol)\n",
    "test_df_x=pd.DataFrame(test_df_x, columns = test_dfcol)"
   ]
  },
  {
   "cell_type": "code",
   "execution_count": 33,
   "metadata": {},
   "outputs": [
    {
     "data": {
      "text/plain": [
       "LGBMClassifier(boosting_type='gbdt', class_weight=None, colsample_bytree=1.0,\n",
       "               importance_type='split', learning_rate=0.1, max_depth=-1,\n",
       "               min_child_samples=20, min_child_weight=0.001, min_split_gain=0.0,\n",
       "               n_estimators=100, n_jobs=-1, num_leaves=31, objective=None,\n",
       "               random_state=None, reg_alpha=0.0, reg_lambda=0.0, silent=True,\n",
       "               subsample=1.0, subsample_for_bin=200000, subsample_freq=0)"
      ]
     },
     "execution_count": 33,
     "metadata": {},
     "output_type": "execute_result"
    }
   ],
   "source": [
    "# params={'class_weight':['balanced'],\n",
    "#        'penalty':['l2'],\n",
    "#         'C':[0.05]\n",
    "#       }\n",
    "\n",
    "#glm=LogisticRegression(fit_intercept=True)\n",
    "#grid_search=GridSearchCV(glm,cv=3,param_grid=params,scoring=\"roc_auc\",verbose=True,n_jobs=-1)\n",
    "#grid_search.fit(train_df_x,train_df_y)\n",
    "#grid_search.best_estimator_\n",
    "lgb_model = LGBMClassifier()\n",
    "lgb_model.fit(train_df_x, train_df_y)"
   ]
  },
  {
   "cell_type": "code",
   "execution_count": 34,
   "metadata": {},
   "outputs": [],
   "source": [
    "test_predict=lgb_model.predict_proba(test_df_x)\n",
    "is_click=pd.DataFrame(test_predict[:,1])"
   ]
  },
  {
   "cell_type": "code",
   "execution_count": 35,
   "metadata": {},
   "outputs": [],
   "source": [
    "output=pd.concat([test['impression_id'],is_click],axis=1)\n",
    "output=output.rename(columns={0: 'is_click'})"
   ]
  },
  {
   "cell_type": "code",
   "execution_count": 36,
   "metadata": {},
   "outputs": [],
   "source": [
    "pd.DataFrame(output).to_csv(\"output.csv\",index=False)"
   ]
  },
  {
   "cell_type": "code",
   "execution_count": 37,
   "metadata": {},
   "outputs": [],
   "source": [
    "#real=t2_y\n",
    "#for cutoff in np.linspace(0,1,11):\n",
    "#    predicted=(test_predict[:,1]>cutoff).astype(int)\n",
    "#    print(round(cutoff,1),roc_auc_score(real, predicted))   "
   ]
  },
  {
   "cell_type": "code",
   "execution_count": 38,
   "metadata": {},
   "outputs": [],
   "source": [
    "#real=t2_y\n",
    "#roc_auc_score(real,grid_search.predict_proba(t2_x)[:,1])"
   ]
  },
  {
   "cell_type": "code",
   "execution_count": 39,
   "metadata": {},
   "outputs": [
    {
     "data": {
      "text/html": [
       "<div>\n",
       "<style scoped>\n",
       "    .dataframe tbody tr th:only-of-type {\n",
       "        vertical-align: middle;\n",
       "    }\n",
       "\n",
       "    .dataframe tbody tr th {\n",
       "        vertical-align: top;\n",
       "    }\n",
       "\n",
       "    .dataframe thead th {\n",
       "        text-align: right;\n",
       "    }\n",
       "</style>\n",
       "<table border=\"1\" class=\"dataframe\">\n",
       "  <thead>\n",
       "    <tr style=\"text-align: right;\">\n",
       "      <th></th>\n",
       "      <th>impression_id</th>\n",
       "      <th>is_click</th>\n",
       "    </tr>\n",
       "  </thead>\n",
       "  <tbody>\n",
       "    <tr>\n",
       "      <th>0</th>\n",
       "      <td>a9e7126a585a69a32bc7414e9d0c0ada</td>\n",
       "      <td>0</td>\n",
       "    </tr>\n",
       "    <tr>\n",
       "      <th>1</th>\n",
       "      <td>caac14a5bf2ba283db7708bb34855760</td>\n",
       "      <td>0</td>\n",
       "    </tr>\n",
       "    <tr>\n",
       "      <th>2</th>\n",
       "      <td>13f10ba306a19ce7bec2f3cae507b698</td>\n",
       "      <td>0</td>\n",
       "    </tr>\n",
       "    <tr>\n",
       "      <th>3</th>\n",
       "      <td>39c4b4dc0e9701b55a0a4f072008fb3f</td>\n",
       "      <td>0</td>\n",
       "    </tr>\n",
       "    <tr>\n",
       "      <th>4</th>\n",
       "      <td>bf5a572cca75f5fc67f4b14e58b11d70</td>\n",
       "      <td>0</td>\n",
       "    </tr>\n",
       "    <tr>\n",
       "      <th>5</th>\n",
       "      <td>ca09514449e304fee91456fb0918667a</td>\n",
       "      <td>0</td>\n",
       "    </tr>\n",
       "    <tr>\n",
       "      <th>6</th>\n",
       "      <td>b8b35cb0ae1719aa9f0ba7a9f3785687</td>\n",
       "      <td>0</td>\n",
       "    </tr>\n",
       "    <tr>\n",
       "      <th>7</th>\n",
       "      <td>33502d1e85818b9b3414c8c006c34e07</td>\n",
       "      <td>0</td>\n",
       "    </tr>\n",
       "    <tr>\n",
       "      <th>8</th>\n",
       "      <td>5314e09fb680c56b58eb5a3b5b7bce0c</td>\n",
       "      <td>0</td>\n",
       "    </tr>\n",
       "    <tr>\n",
       "      <th>9</th>\n",
       "      <td>e1a8a26385f49a5a7e04d34a5823bff3</td>\n",
       "      <td>0</td>\n",
       "    </tr>\n",
       "    <tr>\n",
       "      <th>10</th>\n",
       "      <td>0a2388627db42a15565ad1e47daa6025</td>\n",
       "      <td>0</td>\n",
       "    </tr>\n",
       "    <tr>\n",
       "      <th>11</th>\n",
       "      <td>382193e62cbf57e49abf441063019542</td>\n",
       "      <td>0</td>\n",
       "    </tr>\n",
       "    <tr>\n",
       "      <th>12</th>\n",
       "      <td>27f17fd775ec9bf0e1abffe2c1206434</td>\n",
       "      <td>0</td>\n",
       "    </tr>\n",
       "    <tr>\n",
       "      <th>13</th>\n",
       "      <td>41fe27ce246bd9772e005da454d6b0e1</td>\n",
       "      <td>0</td>\n",
       "    </tr>\n",
       "    <tr>\n",
       "      <th>14</th>\n",
       "      <td>85b73c10a8fba7060054d48d542279d6</td>\n",
       "      <td>0</td>\n",
       "    </tr>\n",
       "    <tr>\n",
       "      <th>15</th>\n",
       "      <td>e22fabe59530363b97507c7294bca996</td>\n",
       "      <td>0</td>\n",
       "    </tr>\n",
       "    <tr>\n",
       "      <th>16</th>\n",
       "      <td>e48379e1edcf90e9cfc6bcac30d84151</td>\n",
       "      <td>0</td>\n",
       "    </tr>\n",
       "    <tr>\n",
       "      <th>17</th>\n",
       "      <td>f145cff1f3e70e0f6556911504369a3d</td>\n",
       "      <td>0</td>\n",
       "    </tr>\n",
       "    <tr>\n",
       "      <th>18</th>\n",
       "      <td>8d680e215a2bf3c38d3663904e80561b</td>\n",
       "      <td>0</td>\n",
       "    </tr>\n",
       "    <tr>\n",
       "      <th>19</th>\n",
       "      <td>74bfc8abbd41a8e4659d1873a9c495ab</td>\n",
       "      <td>0</td>\n",
       "    </tr>\n",
       "    <tr>\n",
       "      <th>20</th>\n",
       "      <td>b521ddda4c58202868680bd09028cf7d</td>\n",
       "      <td>0</td>\n",
       "    </tr>\n",
       "    <tr>\n",
       "      <th>21</th>\n",
       "      <td>9ef2e3d2a0e11a0da4adc7d50f403e12</td>\n",
       "      <td>0</td>\n",
       "    </tr>\n",
       "    <tr>\n",
       "      <th>22</th>\n",
       "      <td>7ff1cf3d2a03dab68c209ae9efd78849</td>\n",
       "      <td>0</td>\n",
       "    </tr>\n",
       "    <tr>\n",
       "      <th>23</th>\n",
       "      <td>a79e11fda1df1d3d15e25a678b4f64f3</td>\n",
       "      <td>0</td>\n",
       "    </tr>\n",
       "    <tr>\n",
       "      <th>24</th>\n",
       "      <td>b28d65100de9473e159832d8fbfc08ce</td>\n",
       "      <td>0</td>\n",
       "    </tr>\n",
       "    <tr>\n",
       "      <th>25</th>\n",
       "      <td>71c007e973f01320af45a0a8a118815c</td>\n",
       "      <td>0</td>\n",
       "    </tr>\n",
       "    <tr>\n",
       "      <th>26</th>\n",
       "      <td>0d3fd12d7d3d1c57e4834223a92c85e0</td>\n",
       "      <td>0</td>\n",
       "    </tr>\n",
       "    <tr>\n",
       "      <th>27</th>\n",
       "      <td>3fa5327c0267ab516572d8eeffb7e56c</td>\n",
       "      <td>0</td>\n",
       "    </tr>\n",
       "    <tr>\n",
       "      <th>28</th>\n",
       "      <td>4f70d4ec9a1cb73bd7d55a20a89a0f32</td>\n",
       "      <td>0</td>\n",
       "    </tr>\n",
       "    <tr>\n",
       "      <th>29</th>\n",
       "      <td>120408ab0f8be1be378244c851f15377</td>\n",
       "      <td>0</td>\n",
       "    </tr>\n",
       "    <tr>\n",
       "      <th>...</th>\n",
       "      <td>...</td>\n",
       "      <td>...</td>\n",
       "    </tr>\n",
       "    <tr>\n",
       "      <th>90645</th>\n",
       "      <td>44d540ee72acaefcf76d096622175c67</td>\n",
       "      <td>0</td>\n",
       "    </tr>\n",
       "    <tr>\n",
       "      <th>90646</th>\n",
       "      <td>b7d75c31578cd23c275f8fb9a40cf112</td>\n",
       "      <td>0</td>\n",
       "    </tr>\n",
       "    <tr>\n",
       "      <th>90647</th>\n",
       "      <td>3d704e147815153ca2c2260280b8e97f</td>\n",
       "      <td>0</td>\n",
       "    </tr>\n",
       "    <tr>\n",
       "      <th>90648</th>\n",
       "      <td>2d15ff9ca899963bcb840567608a91e2</td>\n",
       "      <td>0</td>\n",
       "    </tr>\n",
       "    <tr>\n",
       "      <th>90649</th>\n",
       "      <td>e1e07e2ae43c9917d4633963e377df2c</td>\n",
       "      <td>0</td>\n",
       "    </tr>\n",
       "    <tr>\n",
       "      <th>90650</th>\n",
       "      <td>b4b769d0030468ba90a0046bca2e69b8</td>\n",
       "      <td>0</td>\n",
       "    </tr>\n",
       "    <tr>\n",
       "      <th>90651</th>\n",
       "      <td>0bbc2f680b3d3454701af46071bf32f9</td>\n",
       "      <td>0</td>\n",
       "    </tr>\n",
       "    <tr>\n",
       "      <th>90652</th>\n",
       "      <td>998dc25995b1cf0a88e4d0c5f12255f6</td>\n",
       "      <td>0</td>\n",
       "    </tr>\n",
       "    <tr>\n",
       "      <th>90653</th>\n",
       "      <td>36605ec366492b76a4cc513d8d65b514</td>\n",
       "      <td>0</td>\n",
       "    </tr>\n",
       "    <tr>\n",
       "      <th>90654</th>\n",
       "      <td>37be5e6351f907792fa561fa44c6905f</td>\n",
       "      <td>0</td>\n",
       "    </tr>\n",
       "    <tr>\n",
       "      <th>90655</th>\n",
       "      <td>514777198b8f474c8e4dfcc2a4b43b61</td>\n",
       "      <td>0</td>\n",
       "    </tr>\n",
       "    <tr>\n",
       "      <th>90656</th>\n",
       "      <td>fb835fe8c05d76253f30873620524ee5</td>\n",
       "      <td>0</td>\n",
       "    </tr>\n",
       "    <tr>\n",
       "      <th>90657</th>\n",
       "      <td>0e5a8e85f8a71497b8fce64209add221</td>\n",
       "      <td>0</td>\n",
       "    </tr>\n",
       "    <tr>\n",
       "      <th>90658</th>\n",
       "      <td>3d7bfbb6c48e12efbbd4877ae292d7a0</td>\n",
       "      <td>0</td>\n",
       "    </tr>\n",
       "    <tr>\n",
       "      <th>90659</th>\n",
       "      <td>9397a930691c021d02f0d0512fa35a19</td>\n",
       "      <td>0</td>\n",
       "    </tr>\n",
       "    <tr>\n",
       "      <th>90660</th>\n",
       "      <td>d16ac6834df3cd6769287c14014a9663</td>\n",
       "      <td>0</td>\n",
       "    </tr>\n",
       "    <tr>\n",
       "      <th>90661</th>\n",
       "      <td>ff90aba152c1045dd733f71a7327301e</td>\n",
       "      <td>0</td>\n",
       "    </tr>\n",
       "    <tr>\n",
       "      <th>90662</th>\n",
       "      <td>3c9a19376914c30fe63333a30af21763</td>\n",
       "      <td>0</td>\n",
       "    </tr>\n",
       "    <tr>\n",
       "      <th>90663</th>\n",
       "      <td>4ff05254565f0af415b5ef507df271c0</td>\n",
       "      <td>0</td>\n",
       "    </tr>\n",
       "    <tr>\n",
       "      <th>90664</th>\n",
       "      <td>15d094ac06b5c4dda73ffe0aad517614</td>\n",
       "      <td>0</td>\n",
       "    </tr>\n",
       "    <tr>\n",
       "      <th>90665</th>\n",
       "      <td>b351daa5b4e157db37c4e78990be88dc</td>\n",
       "      <td>0</td>\n",
       "    </tr>\n",
       "    <tr>\n",
       "      <th>90666</th>\n",
       "      <td>bea7529b3a57833786c0eed3c855e187</td>\n",
       "      <td>0</td>\n",
       "    </tr>\n",
       "    <tr>\n",
       "      <th>90667</th>\n",
       "      <td>2cd7d3c62b3c43970219eba437224e88</td>\n",
       "      <td>0</td>\n",
       "    </tr>\n",
       "    <tr>\n",
       "      <th>90668</th>\n",
       "      <td>df22757f49aeb03fe4d11950062ccfa6</td>\n",
       "      <td>0</td>\n",
       "    </tr>\n",
       "    <tr>\n",
       "      <th>90669</th>\n",
       "      <td>d004a2ed6794f69ce3376cbcd87f8dce</td>\n",
       "      <td>0</td>\n",
       "    </tr>\n",
       "    <tr>\n",
       "      <th>90670</th>\n",
       "      <td>14e40cf9f6b71d972a8cbf6836a230c4</td>\n",
       "      <td>0</td>\n",
       "    </tr>\n",
       "    <tr>\n",
       "      <th>90671</th>\n",
       "      <td>e473cad398d5de9cb5be83d9a9ca0b97</td>\n",
       "      <td>0</td>\n",
       "    </tr>\n",
       "    <tr>\n",
       "      <th>90672</th>\n",
       "      <td>e99817afa73431282bb3ddb6eaff1ff7</td>\n",
       "      <td>0</td>\n",
       "    </tr>\n",
       "    <tr>\n",
       "      <th>90673</th>\n",
       "      <td>70ace7a2908312f7e24a427afefb2a55</td>\n",
       "      <td>0</td>\n",
       "    </tr>\n",
       "    <tr>\n",
       "      <th>90674</th>\n",
       "      <td>539145030fb3600d26d6a64130310035</td>\n",
       "      <td>0</td>\n",
       "    </tr>\n",
       "  </tbody>\n",
       "</table>\n",
       "<p>90675 rows × 2 columns</p>\n",
       "</div>"
      ],
      "text/plain": [
       "                          impression_id  is_click\n",
       "0      a9e7126a585a69a32bc7414e9d0c0ada         0\n",
       "1      caac14a5bf2ba283db7708bb34855760         0\n",
       "2      13f10ba306a19ce7bec2f3cae507b698         0\n",
       "3      39c4b4dc0e9701b55a0a4f072008fb3f         0\n",
       "4      bf5a572cca75f5fc67f4b14e58b11d70         0\n",
       "...                                 ...       ...\n",
       "90670  14e40cf9f6b71d972a8cbf6836a230c4         0\n",
       "90671  e473cad398d5de9cb5be83d9a9ca0b97         0\n",
       "90672  e99817afa73431282bb3ddb6eaff1ff7         0\n",
       "90673  70ace7a2908312f7e24a427afefb2a55         0\n",
       "90674  539145030fb3600d26d6a64130310035         0\n",
       "\n",
       "[90675 rows x 2 columns]"
      ]
     },
     "execution_count": 39,
     "metadata": {},
     "output_type": "execute_result"
    }
   ],
   "source": [
    "sample"
   ]
  },
  {
   "cell_type": "code",
   "execution_count": null,
   "metadata": {},
   "outputs": [],
   "source": []
  }
 ],
 "metadata": {
  "kernelspec": {
   "display_name": "Python 3",
   "language": "python",
   "name": "python3"
  },
  "language_info": {
   "codemirror_mode": {
    "name": "ipython",
    "version": 3
   },
   "file_extension": ".py",
   "mimetype": "text/x-python",
   "name": "python",
   "nbconvert_exporter": "python",
   "pygments_lexer": "ipython3",
   "version": "3.6.6"
  }
 },
 "nbformat": 4,
 "nbformat_minor": 1
}
